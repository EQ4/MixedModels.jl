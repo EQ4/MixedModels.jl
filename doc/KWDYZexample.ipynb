{
 "metadata": {
  "language": "Julia",
  "name": "",
  "signature": "sha256:0930d3a2531eafdf5499f8e0b7c8dbc0c63209b32b1054406e5bd035b61a4eba"
 },
 "nbformat": 3,
 "nbformat_minor": 0,
 "worksheets": [
  {
   "cells": [
    {
     "cell_type": "heading",
     "level": 1,
     "metadata": {},
     "source": [
      "Fitting the KWDYZ example in Julia"
     ]
    },
    {
     "cell_type": "markdown",
     "metadata": {},
     "source": [
      "This is an example from _Kleigl et al._ (2011) using data from the saved R data set, `KWDYZ.rda` in the `data` directory for this package.\n",
      "\n",
      "The `read_rda` function in the `DataFrames` package for Julia reads a saved R data file returning the contents as a dictionary (like a list in R but the components can only be retrieved by name)."
     ]
    },
    {
     "cell_type": "code",
     "collapsed": false,
     "input": [
      "using DataFrames\n",
      "kwdyz = DataFrame(read_rda(Pkg.dir(\"MixedModels\",\"data\",\"KWDYZ.rda\"))[\"KWDYZ\"])"
     ],
     "language": "python",
     "metadata": {},
     "outputs": [
      {
       "html": [
        "<table class=\"data-frame\"><tr><th></th><th>item</th><th>tar</th><th>dir</th><th>rt</th><th>subj</th><th>c1</th><th>c2</th><th>c3</th><th>srt</th><th>lrt</th><th>qrt</th><th>prt</th></tr><tr><th>1</th><td>39</td><td>dod</td><td>hor</td><td>506.1</td><td>1</td><td>0.25</td><td>0.5</td><td>-0.75</td><td>0.5061</td><td>6.226734278220032</td><td>22.4966664197165</td><td>14.036235047977032</td></tr><tr><th>2</th><td>52</td><td>dod</td><td>hor</td><td>489.6</td><td>1</td><td>0.25</td><td>0.5</td><td>-0.75</td><td>0.48960000000000004</td><td>6.193588731198116</td><td>22.126906697502932</td><td>13.840242483234347</td></tr><tr><th>3</th><td>89</td><td>dod</td><td>hor</td><td>518.7</td><td>1</td><td>0.25</td><td>0.5</td><td>-0.75</td><td>0.5187</td><td>6.251325681357355</td><td>22.774986278810356</td><td>14.183437487026127</td></tr><tr><th>4</th><td>104</td><td>dod</td><td>hor</td><td>459.6</td><td>1</td><td>0.25</td><td>0.5</td><td>-0.75</td><td>0.4596</td><td>6.130356545974601</td><td>21.438283513378586</td><td>13.473903246772165</td></tr><tr><th>5</th><td>120</td><td>dod</td><td>hor</td><td>384.2</td><td>1</td><td>0.25</td><td>0.5</td><td>-0.75</td><td>0.3842</td><td>5.9511632503344565</td><td>19.601020381602584</td><td>12.487565630398025</td></tr><tr><th>6</th><td>161</td><td>dod</td><td>hor</td><td>470.0</td><td>1</td><td>0.25</td><td>0.5</td><td>-0.75</td><td>0.47</td><td>6.152732694704104</td><td>21.6794833886788</td><td>13.6024187183506</td></tr><tr><th>7</th><td>194</td><td>dod</td><td>hor</td><td>422.0</td><td>1</td><td>0.25</td><td>0.5</td><td>-0.75</td><td>0.422</td><td>6.045005314036012</td><td>20.54263858417414</td><td>12.994746292564496</td></tr><tr><th>8</th><td>248</td><td>dod</td><td>hor</td><td>462.8</td><td>1</td><td>0.25</td><td>0.5</td><td>-0.75</td><td>0.4628</td><td>6.137294995319522</td><td>21.51278689523977</td><td>13.513623211612503</td></tr><tr><th>9</th><td>270</td><td>dod</td><td>hor</td><td>471.9</td><td>1</td><td>0.25</td><td>0.5</td><td>-0.75</td><td>0.4719</td><td>6.156767098732342</td><td>21.723259423944647</td><td>13.625720058735002</td></tr><tr><th>10</th><td>277</td><td>dod</td><td>hor</td><td>445.5</td><td>1</td><td>0.25</td><td>0.5</td><td>-0.75</td><td>0.4455</td><td>6.099197246910864</td><td>21.106870919205434</td><td>13.29696266938164</td></tr><tr><th>11</th><td>289</td><td>dod</td><td>hor</td><td>399.1</td><td>1</td><td>0.25</td><td>0.5</td><td>-0.75</td><td>0.3991</td><td>5.989212012054688</td><td>19.977487329491666</td><td>12.690774122389815</td></tr><tr><th>12</th><td>299</td><td>dod</td><td>hor</td><td>389.7</td><td>1</td><td>0.25</td><td>0.5</td><td>-0.75</td><td>0.3897</td><td>5.965377212344664</td><td>19.74082065163452</td><td>12.563095143693552</td></tr><tr><th>13</th><td>304</td><td>dod</td><td>hor</td><td>409.8</td><td>1</td><td>0.25</td><td>0.5</td><td>-0.75</td><td>0.4098</td><td>6.0156692358048</td><td>20.243517480912253</td><td>12.834021158252208</td></tr><tr><th>14</th><td>320</td><td>dod</td><td>hor</td><td>370.1</td><td>1</td><td>0.25</td><td>0.5</td><td>-0.75</td><td>0.37010000000000004</td><td>5.9137732393921105</td><td>19.237983262286097</td><td>12.291045469327695</td></tr><tr><th>15</th><td>378</td><td>dod</td><td>hor</td><td>408.2</td><td>1</td><td>0.25</td><td>0.5</td><td>-0.75</td><td>0.4082</td><td>6.011757250375744</td><td>20.203960007879644</td><td>12.812739115708265</td></tr><tr><th>16</th><td>479</td><td>dod</td><td>hor</td><td>417.5</td><td>1</td><td>0.25</td><td>0.5</td><td>-0.75</td><td>0.4175</td><td>6.0342845442909105</td><td>20.43281674170255</td><td>12.935777779076782</td></tr><tr><th>17</th><td>494</td><td>dod</td><td>hor</td><td>316.7</td><td>1</td><td>0.25</td><td>0.5</td><td>-0.75</td><td>0.3167</td><td>5.757954953544594</td><td>17.79606698121807</td><td>11.50482284638836</td></tr><tr><th>18</th><td>503</td><td>dod</td><td>hor</td><td>440.7</td><td>1</td><td>0.25</td><td>0.5</td><td>-0.75</td><td>0.4407</td><td>6.088364371847941</td><td>20.992855927672156</td><td>13.235993220286256</td></tr><tr><th>19</th><td>508</td><td>dod</td><td>hor</td><td>398.7</td><td>1</td><td>0.25</td><td>0.5</td><td>-0.75</td><td>0.3987</td><td>5.988209254387309</td><td>19.967473550752484</td><td>12.685376464020894</td></tr><tr><th>20</th><td>554</td><td>dod</td><td>hor</td><td>348.7</td><td>1</td><td>0.25</td><td>0.5</td><td>-0.75</td><td>0.3487</td><td>5.854211953681605</td><td>18.673510650116114</td><td>11.984361453423922</td></tr><tr><th>21</th><td>587</td><td>dod</td><td>hor</td><td>275.0</td><td>1</td><td>0.25</td><td>0.5</td><td>-0.75</td><td>0.275</td><td>5.616771097666572</td><td>16.583123951777</td><td>10.835959687916407</td></tr><tr><th>22</th><td>590</td><td>dod</td><td>hor</td><td>411.2</td><td>1</td><td>0.25</td><td>0.5</td><td>-0.75</td><td>0.4112</td><td>6.019079714140955</td><td>20.27806696901852</td><td>12.852603734733455</td></tr><tr><th>23</th><td>4</td><td>dod</td><td>ver</td><td>525.7</td><td>1</td><td>0.25</td><td>0.5</td><td>-0.75</td><td>0.5257000000000001</td><td>6.264730707825403</td><td>22.928148638736623</td><td>14.264328138370793</td></tr><tr><th>24</th><td>40</td><td>dod</td><td>ver</td><td>466.7</td><td>1</td><td>0.25</td><td>0.5</td><td>-0.75</td><td>0.4667</td><td>6.14568665295577</td><td>21.603240497666086</td><td>13.561818714724618</td></tr><tr><th>25</th><td>79</td><td>dod</td><td>ver</td><td>469.4</td><td>1</td><td>0.25</td><td>0.5</td><td>-0.75</td><td>0.4694</td><td>6.151455283416923</td><td>21.66564100136435</td><td>13.595049135993305</td></tr><tr><th>26</th><td>116</td><td>dod</td><td>ver</td><td>484.2</td><td>1</td><td>0.25</td><td>0.5</td><td>-0.75</td><td>0.48419999999999996</td><td>6.182498044503958</td><td>22.004544985070698</td><td>13.77527523217376</td></tr><tr><th>27</th><td>164</td><td>dod</td><td>ver</td><td>518.2</td><td>1</td><td>0.25</td><td>0.5</td><td>-0.75</td><td>0.5182</td><td>6.250361268128009</td><td>22.764006677208652</td><td>14.177635597194842</td></tr><tr><th>28</th><td>167</td><td>dod</td><td>ver</td><td>519.8</td><td>1</td><td>0.25</td><td>0.5</td><td>-0.75</td><td>0.5197999999999999</td><td>6.25344412220739</td><td>22.799122790142604</td><td>14.19619032008118</td></tr><tr><th>29</th><td>169</td><td>dod</td><td>ver</td><td>505.8</td><td>1</td><td>0.25</td><td>0.5</td><td>-0.75</td><td>0.5058</td><td>6.226141334235865</td><td>22.489997776789576</td><td>14.032704652660527</td></tr><tr><th>30</th><td>177</td><td>dod</td><td>ver</td><td>465.0</td><td>1</td><td>0.25</td><td>0.5</td><td>-0.75</td><td>0.465</td><td>6.142037405587356</td><td>21.563858652847824</td><td>13.540839039367318</td></tr><tr><th>&vellip;</th><td>&vellip;</td><td>&vellip;</td><td>&vellip;</td><td>&vellip;</td><td>&vellip;</td><td>&vellip;</td><td>&vellip;</td><td>&vellip;</td><td>&vellip;</td><td>&vellip;</td><td>&vellip;</td><td>&vellip;</td></tr></table>"
       ],
       "metadata": {},
       "output_type": "pyout",
       "prompt_number": 1,
       "text": [
        "28710x12 DataFrame\n",
        "| Row   | item  | tar   | dir   | rt    | subj | c1    | c2   | c3    | srt    |\n",
        "|-------|-------|-------|-------|-------|------|-------|------|-------|--------|\n",
        "| 1     | \"39\"  | \"dod\" | \"hor\" | 506.1 | \"1\"  | 0.25  | 0.5  | -0.75 | 0.5061 |\n",
        "| 2     | \"52\"  | \"dod\" | \"hor\" | 489.6 | \"1\"  | 0.25  | 0.5  | -0.75 | 0.4896 |\n",
        "| 3     | \"89\"  | \"dod\" | \"hor\" | 518.7 | \"1\"  | 0.25  | 0.5  | -0.75 | 0.5187 |\n",
        "| 4     | \"104\" | \"dod\" | \"hor\" | 459.6 | \"1\"  | 0.25  | 0.5  | -0.75 | 0.4596 |\n",
        "| 5     | \"120\" | \"dod\" | \"hor\" | 384.2 | \"1\"  | 0.25  | 0.5  | -0.75 | 0.3842 |\n",
        "| 6     | \"161\" | \"dod\" | \"hor\" | 470.0 | \"1\"  | 0.25  | 0.5  | -0.75 | 0.47   |\n",
        "| 7     | \"194\" | \"dod\" | \"hor\" | 422.0 | \"1\"  | 0.25  | 0.5  | -0.75 | 0.422  |\n",
        "| 8     | \"248\" | \"dod\" | \"hor\" | 462.8 | \"1\"  | 0.25  | 0.5  | -0.75 | 0.4628 |\n",
        "| 9     | \"270\" | \"dod\" | \"hor\" | 471.9 | \"1\"  | 0.25  | 0.5  | -0.75 | 0.4719 |\n",
        "| 10    | \"277\" | \"dod\" | \"hor\" | 445.5 | \"1\"  | 0.25  | 0.5  | -0.75 | 0.4455 |\n",
        "| 11    | \"289\" | \"dod\" | \"hor\" | 399.1 | \"1\"  | 0.25  | 0.5  | -0.75 | 0.3991 |\n",
        "\u22ee\n",
        "| 28699 | \"566\" | \"val\" | \"ver\" | 349.4 | \"61\" | -0.75 | -0.5 | 0.25  | 0.3494 |\n",
        "| 28700 | \"577\" | \"val\" | \"ver\" | 577.8 | \"61\" | -0.75 | -0.5 | 0.25  | 0.5778 |\n",
        "| 28701 | \"578\" | \"val\" | \"ver\" | 334.7 | \"61\" | -0.75 | -0.5 | 0.25  | 0.3347 |\n",
        "| 28702 | \"580\" | \"val\" | \"ver\" | 346.2 | \"61\" | -0.75 | -0.5 | 0.25  | 0.3462 |\n",
        "| 28703 | \"581\" | \"val\" | \"ver\" | 302.3 | \"61\" | -0.75 | -0.5 | 0.25  | 0.3023 |\n",
        "| 28704 | \"586\" | \"val\" | \"ver\" | 328.3 | \"61\" | -0.75 | -0.5 | 0.25  | 0.3283 |\n",
        "| 28705 | \"591\" | \"val\" | \"ver\" | 353.7 | \"61\" | -0.75 | -0.5 | 0.25  | 0.3537 |\n",
        "| 28706 | \"592\" | \"val\" | \"ver\" | 376.0 | \"61\" | -0.75 | -0.5 | 0.25  | 0.376  |\n",
        "| 28707 | \"593\" | \"val\" | \"ver\" | 295.9 | \"61\" | -0.75 | -0.5 | 0.25  | 0.2959 |\n",
        "| 28708 | \"596\" | \"val\" | \"ver\" | 254.3 | \"61\" | -0.75 | -0.5 | 0.25  | 0.2543 |\n",
        "| 28709 | \"600\" | \"val\" | \"ver\" | 282.6 | \"61\" | -0.75 | -0.5 | 0.25  | 0.2826 |\n",
        "| 28710 | \"602\" | \"val\" | \"ver\" | 450.5 | \"61\" | -0.75 | -0.5 | 0.25  | 0.4505 |\n",
        "\n",
        "| Row   | lrt     | qrt     | prt     |\n",
        "|-------|---------|---------|---------|\n",
        "| 1     | 6.22673 | 22.4967 | 14.0362 |\n",
        "| 2     | 6.19359 | 22.1269 | 13.8402 |\n",
        "| 3     | 6.25133 | 22.775  | 14.1834 |\n",
        "| 4     | 6.13036 | 21.4383 | 13.4739 |\n",
        "| 5     | 5.95116 | 19.601  | 12.4876 |\n",
        "| 6     | 6.15273 | 21.6795 | 13.6024 |\n",
        "| 7     | 6.04501 | 20.5426 | 12.9947 |\n",
        "| 8     | 6.13729 | 21.5128 | 13.5136 |\n",
        "| 9     | 6.15677 | 21.7233 | 13.6257 |\n",
        "| 10    | 6.0992  | 21.1069 | 13.297  |\n",
        "| 11    | 5.98921 | 19.9775 | 12.6908 |\n",
        "\u22ee\n",
        "| 28699 | 5.85622 | 18.6922 | 11.9946 |\n",
        "| 28700 | 6.35923 | 24.0375 | 14.8478 |\n",
        "| 28701 | 5.81323 | 18.2948 | 11.7778 |\n",
        "| 28702 | 5.84702 | 18.6065 | 11.9478 |\n",
        "| 28703 | 5.71142 | 17.3868 | 11.2799 |\n",
        "| 28704 | 5.79393 | 18.1191 | 11.6817 |\n",
        "| 28705 | 5.86845 | 18.8069 | 12.057  |\n",
        "| 28706 | 5.92959 | 19.3907 | 12.3738 |\n",
        "| 28707 | 5.69002 | 17.2017 | 11.178  |\n",
        "| 28708 | 5.53851 | 15.9468 | 10.4821 |\n",
        "| 28709 | 5.64403 | 16.8107 | 10.962  |\n",
        "| 28710 | 6.11036 | 21.225  | 13.3601 |"
       ]
      }
     ],
     "prompt_number": 1
    },
    {
     "cell_type": "markdown",
     "metadata": {},
     "source": [
      "The `MixedModels` package provides an `lmm` function that generates an object of a type that inherits from the abstract type `LinearMixedModel`.  The reason for having different concrete types is to be able to exploit properties of certain mixed-effects model structures."
     ]
    },
    {
     "cell_type": "code",
     "collapsed": false,
     "input": [
      "using MixedModels\n",
      "modl = lmm(rt ~ 1 + c1 + c2 + c3 + (1 + c1 + c2 + c3|subj), kwdyz);\n",
      "typeof(modl)"
     ],
     "language": "python",
     "metadata": {},
     "outputs": [
      {
       "metadata": {},
       "output_type": "pyout",
       "prompt_number": 2,
       "text": [
        "LinearMixedModel{PLSOne} (constructor with 1 method)"
       ]
      }
     ],
     "prompt_number": 2
    },
    {
     "cell_type": "markdown",
     "metadata": {},
     "source": [
      "In this case the model has a single vector-valued random-effects term.  The `fit` generic function applied to a `LinearMixedModel` object by default fits by maximum likelihood.  (At present the `show` method for the fitted model doesn't show the standard deviations and correlations properly.)  An optional second argument is `verbose`."
     ]
    },
    {
     "cell_type": "code",
     "collapsed": false,
     "input": [
      "fit(modl, true);"
     ],
     "language": "python",
     "metadata": {},
     "outputs": [
      {
       "output_type": "stream",
       "stream": "stdout",
       "text": [
        "f_1: 326166.1263, [1"
       ]
      },
      {
       "output_type": "stream",
       "stream": "stdout",
       "text": [
        ".0,0.0,0.0,0.0,1.0,0.0,0.0,1.0,0.0,1.0]\n",
        "f_2: 335185.27855, ["
       ]
      },
      {
       "output_type": "stream",
       "stream": "stdout",
       "text": [
        "0.138266,0.798788,-0.452945,-0.562661,0.1,-0.623885,-0.622088,0.1,0.65086,0.1]\n",
        "f_3: 326814.85998, [0.372968,0.497731,-0.117794,-0.19204,0.266097,-0.248843,-0.246987,0.259789,0.278187,0.258965]\n",
        "f_4: 326003.19131, [0.747879,0.144424,-0.0146935,-0.0278047,0.61191,-0.0405946,-0.0401322,0.602228,0.0483546,0.600947]\n",
        "f_5: 326231.57021, [1.21197,0.617663,-0.0036411,-0.00783094,0.0,-0.420575,-0.427231,0.0,0.493067,0.0]\n",
        "f_6: 325956.02519, [0.871883,0.273722,-0.013566,-0.0257337,0.166254,-0.123693,-0.126205,0.144542,0.161731,0.138029]\n",
        "f_7: 326070.9854, [1.03032,-0.108529,-0.345356,0.123698,0.833752,0.53417,-0.643961,0.741899,-0.33437,0.497217]\n",
        "f_8: 325930.91684, [0.908151,0.141926,-0.117674,0.0079341,0.557196,0.254999,-0.356464,0.452539,-0.0501217,0.256641]\n",
        "f_9: 325920.26918, [0.901582,0.146942,-0.113475,0.0102269,0.537743,0.245422,-0.347004,0.427706,-0.042335,0.229523]\n",
        "f_10: 325853.74044, [0.873081,0.205429,-0.0546547,0.0170132,0.342591,0.198962,-0.218645,0.189169,-0.00603546,0.0]\n",
        "f_11: 326852.91154, [0.829357,-0.394837,0.15929,-0.358093,0.0,-0.0285562,0.20519,0.0,0.119844,0.0]\n",
        "f_12: 325847.57167, [0.867921,0.0622657,-0.0193122,-0.0790432,0.252596,0.138136,-0.0935661,0.0768513,0.0148579,0.0]\n",
        "f_13: 325851.81467, [0.861867,0.36041,-0.0655949,0.0242673,0.372924,0.0990919,-0.032501,0.0994344,0.0211914,0.0]\n",
        "f_14: 325823.06794, [0.865663,0.20384,-0.037532,-0.0347785,0.301684,0.122285,-0.0689906,0.0853107,0.0172221,0.0]\n",
        "f_15: 325818.99908, [0.863996,0.210331,-0.0327345,-0.0360935,0.257656,0.11358,-0.0753288,0.0938849,0.0193567,0.0]\n",
        "f_16: 325864.2719, [0.842084,0.28227,0.0131682,-0.0382262,0.128376,0.0196253,-0.115418,0.14701,0.050269,0.0]\n",
        "f_17: 325816.74433, [0.861404,0.218908,-0.027223,-0.0363309,0.241269,0.0995557,-0.0800918,0.100094,0.0231167,0.0]\n",
        "f_18: 325834.6014, [0.830861,0.210913,0.0179036,-0.0413152,0.436901,-0.0254518,-0.0955412,0.121025,0.0693837,0.0]\n",
        "f_19: 325814.32226, [0.854845,0.217296,-0.0176249,-0.0373405,0.286957,0.0660093,-0.0832968,0.104404,0.0334216,0.0]\n",
        "f_20: 325826.99285, [0.849762,0.222568,-0.0232406,-0.035912,0.1642,0.0512499,-0.0937445,0.119521,0.0378058,0.0]\n",
        "f_21: 325812.8669, [0.853893,0.218276,-0.0186723,-0.0370752,0.261902,0.0631821,-0.0852781,0.10726,0.0342414,0.0]\n",
        "f_22: 325812.13079, [0.841058,0.218612,-0.0292808,-0.0345614,0.225053,0.0298509,-0.108272,0.141755,0.0461023,0.0]\n",
        "f_23: 325813.52947, [0.836135,0.210078,-0.0137002,-0.0387222,0.319915,0.0313049,-0.108079,0.14659,0.0504251,0.0]\n",
        "f_24: 325810.24731, [0.839203,0.215395,-0.0233723,-0.0361279,0.263558,0.0303961,-0.1082,0.143572,0.0477301,0.0]\n",
        "f_25: 325810.14363, [0.837583,0.214904,-0.0222086,-0.036336,0.261593,0.0280345,-0.109167,0.143186,0.0488642,0.0]\n",
        "f_26: 325809.90542, [0.815773,0.208423,-0.0202524,-0.036492,0.260694,0.00393076,-0.122378,0.148636,0.061797,0.0]\n",
        "f_27: 325811.68736, [0.808159,0.207555,-0.0230285,-0.0352392,0.277007,0.0284576,-0.126182,0.188937,0.051729,0.0]\n",
        "f_28: 325809.69221, [0.814015,0.208225,-0.0208885,-0.0362052,0.26451,0.00974104,-0.123251,0.158169,0.0594641,0.0]\n",
        "f_29: 325809.65929, [0.812605,0.207988,-0.0211192,-0.0360418,0.265343,0.0100364,-0.122062,0.155251,0.0592488,0.0]\n",
        "f_30: 325809.62565, [0.794105,0.202881,-0.0216603,-0.0342346,0.267572,0.0200968,-0.113988,0.145176,0.0528762,0.0]\n",
        "f_31: 325809.65768, [0.792652,0.199361,-0.0203543,-0.0348697,0.263557,0.0116767,-0.123303,0.162421,0.0564233,0.0]\n",
        "f_32: 325809.56747, [0.793521,0.201464,-0.0211344,-0.03449,0.265948,0.0166859,-0.117764,0.152173,0.0543062,0.0]\n",
        "f_33: 325811.51413, [0.783263,0.225679,-0.0199115,-0.0323436,0.257612,0.000283347,-0.117191,0.128992,0.0635767,0.0]\n",
        "f_34: 325809.55887, [0.792482,0.203928,-0.0210116,-0.0342744,0.265099,0.0149875,-0.117707,0.149788,0.0552517,0.0]\n",
        "f_35: 325809.55858, [0.792518,0.199274,-0.0209477,-0.0345409,0.265066,0.0149867,-0.118074,0.15084,0.0553731,0.0]\n",
        "f_36: 325809.55236, [0.792139,0.201932,-0.0209182,-0.0343398,0.265046,0.0148988,-0.118161,0.150964,0.0554643,0.0]\n",
        "f_37: 325809.55196, [0.792034,0.201751,-0.0208944,-0.0343327,0.265039,0.0148253,-0.118229,0.15106,0.0555396,0.0]\n",
        "f_38: 325809.55084, [0.790482,0.201525,-0.0207817,-0.0341061,0.265026,0.014485,-0.118532,0.152244,0.0558888,0.0]\n",
        "f_39: 325809.55363, ["
       ]
      },
      {
       "output_type": "stream",
       "stream": "stdout",
       "text": [
        "0.790779,0.200378,-0.0206938,-0.0343284,0.265065,0.0141348,-0.118649,0.149873,0.0561753,0.0]\n",
        "f_40: 325809.55024, [0.790562,0.201215,-0.020758,-0.0341661,0.265037,0.0143905,-0.118564,0.151604,0.0559661,0.0]\n",
        "f_41: 325809.54972, [0.790272,0.201374,-0.0204421,-0.0337261,0.265277,0.0137533,-0.119163,0.151733,0.0566788,0.0]\n",
        "f_42: 325809.55721, [0.791555,0.200027,-0.020298,-0.0356123,0.265403,0.0139552,-0.119141,0.152765,0.0565412,0.0]\n",
        "f_43: 325809.54941, [0.790466,0.20117,-0.0204203,-0.0340121,0.265296,0.0137839,-0.119159,0.151889,0.056658,0.0]\n",
        "f_44: 325809.55019, [0.790682,0.200888,-0.0202676,-0.0337442,0.265348,0.0139148,-0.119043,0.15293,0.0565202,0.0]\n",
        "f_45: 325809.54938, [0.790498,0.201128,-0.0203978,-0.0339726,0.265304,0.0138032,-0.119142,0.152043,0.0566376,0.0]\n",
        "f_46: 325809.54942, [0.790406,0.200962,-0.0200828,-0.0338888,0.26536,0.01373,-0.119058,0.151867,0.0566347,0.0]\n",
        "f_47: 325809.54935, [0.790468,0.201073,-0.0202933,-0.0339448,0.265322,0.013779,-0.119114,0.151985,0.0566366,0.0]\n",
        "f_48: 325809.56862, [0.790282,0.202201,-0.0198182,-0.0306806,0.265424,0.0138758,-0.119327,0.153315,0.0563973,0.0]\n",
        "f_49: 325809.54951, [0.790449,0.201186,-0.0202458,-0.0336175,0.265333,0.0137886,-0.119136,0.152118,0.0566127,0.0]\n",
        "f_50: 325809.54935, [0.790466,0.201085,-0.0202882,-0.0339096,0.265323,0.01378,-0.119117,0.151999,0.0566341,0.0]\n",
        "f_51: 325809.54943, [0.790459,0.201036,-0.0201966,-0.0341112,0.265336,0.0137835,-0.119125,0.15205,0.0566048,0.0]\n",
        "f_52: 325809.54935, [0.790465,0.20108,-0.0202787,-0.0339306,0.265325,0.0137804,-0.119117,0.152005,0.056631,0.0]\n",
        "f_53: 325809.54937, [0.790441,0.201082,-0.0201914,-0.0337782,0.26534,0.0137845,-0.119128,0.152069,0.0565952,0.0]\n",
        "f_54: 325809.54935, [0.790459,0.201081,-0.0202577,-0.033894,0.265329,0.0137814,-0.11912,0.15202,0.0566224,0.0]\n",
        "f_55: 325809.5495, [0.790462,0.201038,-0.0199991,-0.034057,0.265343,0.0137845,-0.119139,0.152125,0.0565729,0.0]\n",
        "f_56: 325809.54935, [0.790459,0.201076,-0.0202318,-0.0339103,0.26533,0.0137817,-0.119122,0.152031,0.0566175,0.0]\n",
        "f_57: 325809.54935, [0.790457,0.201075,-0.0202353,-0.0338997,0.26533,0.0137814,-0.119122,0.152032,0.0566175,0.0]\n",
        "f_58: 325809.54935, [0.790442,0.201065,-0.0202065,-0.0338947,0.26533,0.0137772,-0.119128,0.152047,0.0566199,0.0]\n",
        "f_59: 325809.54935, [0.790453,0.201073,-0.0202282,-0.0338984,0.26533,0.0137804,-0.119124,0.152036,0.056618,0.0]\n",
        "FTOL_REACHED\n"
       ]
      }
     ],
     "prompt_number": 3
    },
    {
     "cell_type": "markdown",
     "metadata": {},
     "source": [
      "The fitted model is"
     ]
    },
    {
     "cell_type": "code",
     "collapsed": false,
     "input": [
      "modl"
     ],
     "language": "python",
     "metadata": {},
     "outputs": [
      {
       "metadata": {},
       "output_type": "pyout",
       "prompt_number": 4,
       "text": [
        "Linear mixed model fit by maximum likelihood\n",
        "Formula: rt ~ 1 + c1 + c2 + c3 + ((1 + c1 + c2 + c3) | subj)\n",
        "\n",
        " logLik: -162904.774673, deviance: 325809.549347\n",
        "\n",
        " Variance components:\n",
        "                Variance    Std.Dev.  Corr.\n",
        " subj         3047.168904   55.201168\n",
        "              540.507922   23.248826   0.60\n",
        "              115.651117   10.754121  -0.13 -0.13\n",
        "               90.443092    9.510157  -0.25 -0.25 -0.25\n",
        " Residual     4876.903925   69.834833\n",
        " Number of obs: 28710; levels of grouping factors: 61\n",
        "\n",
        "  Fixed-effects parameters:\n",
        "             Estimate Std.Error z value\n",
        "(Intercept)   389.734   7.09149 54.9579\n",
        "c1            33.7817   3.28744  10.276\n",
        "c2            13.9852   2.30574 6.06539\n",
        "c3            2.74695   2.21425 1.24058\n"
       ]
      }
     ],
     "prompt_number": 4
    },
    {
     "cell_type": "markdown",
     "metadata": {},
     "source": [
      "The speed with which this model can be fit is remarkable.  The first fit is slow because the methods used are compiled.  Subsequent fits are fast."
     ]
    },
    {
     "cell_type": "code",
     "collapsed": false,
     "input": [
      "@time fit(lmm(rt ~ c1+c2+c3+(c1+c2+c3|subj),kwdyz));"
     ],
     "language": "python",
     "metadata": {},
     "outputs": [
      {
       "output_type": "stream",
       "stream": "stdout",
       "text": [
        "elapsed time: "
       ]
      },
      {
       "output_type": "stream",
       "stream": "stdout",
       "text": [
        "0.349393267 seconds (47691968 bytes allocated, 17.92% gc time)\n"
       ]
      }
     ],
     "prompt_number": 5
    },
    {
     "cell_type": "markdown",
     "metadata": {},
     "source": [
      "The parameters being optimized are the $\\theta$ parameters, which are the vector of elements on and below the diagonal in the (left) Cholesky factor of the relative covariance matrix, called $\\lambda$. In the current version of the code the elements of the `\u03bb` member are subtypes of `AbstractPDMat` from the `PDMats` package."
     ]
    },
    {
     "cell_type": "code",
     "collapsed": false,
     "input": [
      "modl.\u03bb"
     ],
     "language": "python",
     "metadata": {},
     "outputs": [
      {
       "metadata": {},
       "output_type": "pyout",
       "prompt_number": 6,
       "text": [
        "1-element Array{Any,1}:\n",
        " PDLCholF(Cholesky{Float64} with factor:\n",
        "4x4 Triangular{Float64,Array{Float64,2},:L,false}:\n",
        "  0.790453    0.0        0.0       0.0\n",
        "  0.201073    0.26533    0.0       0.0\n",
        " -0.0202282   0.0137804  0.152036  0.0\n",
        " -0.0338984  -0.119124   0.056618  0.0)"
       ]
      }
     ],
     "prompt_number": 6
    },
    {
     "cell_type": "markdown",
     "metadata": {},
     "source": [
      "Notice that that the fourth column of the Cholesky factor of $\\lambda$ is zero and thus  is singular.  This means that a linear combination of the coefficients has zero variance.  In other words, there are only three degrees of freedom in the four dimensional random effects vector."
     ]
    },
    {
     "cell_type": "markdown",
     "metadata": {},
     "source": [
      "There are different ways of determining the direction of the linear combination with zero variance.  The easiest is to take the singular value decomposition of `lambda`."
     ]
    },
    {
     "cell_type": "code",
     "collapsed": false,
     "input": [
      "lfact = svdfact(modl.\u03bb[1]);\n",
      "show(lfact[:S])"
     ],
     "language": "python",
     "metadata": {},
     "outputs": [
      {
       "output_type": "stream",
       "stream": "stderr",
       "text": [
        "Warning: imported binding for lfact overwritten in module Main\n"
       ]
      },
      {
       "output_type": "stream",
       "stream": "stdout",
       "text": [
        "[0."
       ]
      },
      {
       "output_type": "stream",
       "stream": "stdout",
       "text": [
        "8200006415063419,0.2820494231418669,0.16109842882401093,0.0]"
       ]
      }
     ],
     "prompt_number": 14
    },
    {
     "cell_type": "markdown",
     "metadata": {},
     "source": [
      "Because the singular values are non-negative and returned in decreasing order, zero or near-zero singular values will be trailing elements of `S`.  The direction of the linear combinations that have zero variance is the corresponding column of `U`, the matrix of left singular vectors."
     ]
    },
    {
     "cell_type": "code",
     "collapsed": false,
     "input": [
      "svec = lfact[:U][:,end];\n",
      "show(svec)"
     ],
     "language": "python",
     "metadata": {},
     "outputs": [
      {
       "output_type": "stream",
       "stream": "stdout",
       "text": [
        "[-"
       ]
      },
      {
       "output_type": "stream",
       "stream": "stdout",
       "text": [
        "0.07340387718629267,0.40078184397442057,-0.3187033052579207,0.8558118879591236]"
       ]
      }
     ],
     "prompt_number": 15
    },
    {
     "cell_type": "markdown",
     "metadata": {},
     "source": [
      "We can verify that this combination does indeed have (near) zero variance by evaluating the relative covariance matrix and the quadratic form for the variance of this combination"
     ]
    },
    {
     "cell_type": "code",
     "collapsed": false,
     "input": [
      "relcov = full(modl.\u03bb[1])"
     ],
     "language": "python",
     "metadata": {},
     "outputs": [
      {
       "metadata": {},
       "output_type": "pyout",
       "prompt_number": 9,
       "text": [
        "4x4 Array{Float64,2}:\n",
        "  0.624816    0.158938     -0.0159895    -0.0267951 \n",
        "  0.158938    0.11083      -0.000410987  -0.0384232 \n",
        " -0.0159895  -0.000410987   0.023714      0.00765212\n",
        " -0.0267951  -0.0384232     0.00765212    0.0185452 "
       ]
      }
     ],
     "prompt_number": 9
    },
    {
     "cell_type": "code",
     "collapsed": false,
     "input": [
      "using PDMats\n",
      "quad(modl.\u03bb[1],svec)  # quadratic form defined by \u03bb[1]"
     ],
     "language": "python",
     "metadata": {},
     "outputs": [
      {
       "ename": "LoadError",
       "evalue": "`quad` has no method matching quad(::PDLCholF, ::Array{Float64,1})\nwhile loading In[16], in expression starting on line 2",
       "output_type": "pyerr",
       "traceback": [
        "`quad` has no method matching quad(::PDLCholF, ::Array{Float64,1})\nwhile loading In[16], in expression starting on line 2",
        ""
       ]
      }
     ],
     "prompt_number": 16
    },
    {
     "cell_type": "markdown",
     "metadata": {},
     "source": [
      "In fact, it may be easier conceptually to begin with the relative covariance matrix and its eigendecomposition, which is related to the principle components."
     ]
    },
    {
     "cell_type": "code",
     "collapsed": false,
     "input": [
      "ev = eigfact(relcov);\n",
      "ev[:values]"
     ],
     "language": "python",
     "metadata": {},
     "outputs": [
      {
       "metadata": {},
       "output_type": "pyout",
       "prompt_number": 17,
       "text": [
        "4-element Array{Float64,1}:\n",
        " -1.90202e-17\n",
        "  0.0259527  \n",
        "  0.0795519  \n",
        "  0.672401   "
       ]
      }
     ],
     "prompt_number": 17
    },
    {
     "cell_type": "markdown",
     "metadata": {},
     "source": [
      "The eigenvalues of `lambda * lambda'` are the squares of the singular values of `lambda` but in the opposite order.  The direction of zero variance is therefore"
     ]
    },
    {
     "cell_type": "code",
     "collapsed": false,
     "input": [
      "evec = ev[:vectors][1,:];\n",
      "show(evec)"
     ],
     "language": "python",
     "metadata": {},
     "outputs": [
      {
       "output_type": "stream",
       "stream": "stdout",
       "text": [
        "["
       ]
      },
      {
       "output_type": "stream",
       "stream": "stdout",
       "text": [
        "-0.07340387718629243 0.0040192899685352335 0.27227893369610034 0.9594060133163037]"
       ]
      }
     ],
     "prompt_number": 12
    },
    {
     "cell_type": "heading",
     "level": 2,
     "metadata": {},
     "source": [
      "Convergence for this model"
     ]
    },
    {
     "cell_type": "markdown",
     "metadata": {},
     "source": [
      "\n",
      "\n",
      "After updating the model structure for a new value of the parameters the gradient can be extracted relatively easily.  At convergence, the gradient is"
     ]
    },
    {
     "cell_type": "code",
     "collapsed": false,
     "input": [
      "grad!(zeros(10),modl)"
     ],
     "language": "python",
     "metadata": {},
     "outputs": [
      {
       "metadata": {},
       "output_type": "pyout",
       "prompt_number": 18,
       "text": [
        "10-element Array{Float64,1}:\n",
        "  0.000177857\n",
        "  0.019775   \n",
        "  0.0077803  \n",
        " -0.00873009 \n",
        " -0.000693827\n",
        "  0.0102058  \n",
        "  0.000952887\n",
        "  0.00138384 \n",
        " -0.00155155 \n",
        "  0.0        "
       ]
      }
     ],
     "prompt_number": 18
    }
   ],
   "metadata": {}
  }
 ]
}