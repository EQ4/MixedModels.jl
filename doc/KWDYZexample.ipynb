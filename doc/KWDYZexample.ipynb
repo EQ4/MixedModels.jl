{
 "metadata": {
  "language": "Julia",
  "name": ""
 },
 "nbformat": 3,
 "nbformat_minor": 0,
 "worksheets": [
  {
   "cells": [
    {
     "cell_type": "heading",
     "level": 1,
     "metadata": {},
     "source": [
      "Fitting the KWDYZ example in Julia"
     ]
    },
    {
     "cell_type": "markdown",
     "metadata": {},
     "source": [
      "Shravan mentioned an example from _Kleigl et al._ (2011) using data from the saved R data set, `KWDYZ_test.rda` of which I have a copy in my `Downloads` directory.\n",
      "\n",
      "The `read_rda` function in the `DataFrames` package for Julia reads a saved R data file returning the contents as a dictionary (like a list in R but the components can only be retrieved by name).  It helps to know that the data frame is called `dat`."
     ]
    },
    {
     "cell_type": "code",
     "collapsed": false,
     "input": [
      "using DataFrames\n",
      "kwdyz = DataFrame(read_rda(\"../data/KWDYZ.rda\")[\"KWDYZ\"])"
     ],
     "language": "python",
     "metadata": {},
     "outputs": [
      {
       "ename": "LoadError",
       "evalue": "GZError(-1,\"gzopen failed\")\nwhile loading In[1], in expression starting on line 2",
       "output_type": "pyerr",
       "traceback": [
        "GZError(-1,\"gzopen failed\")\nwhile loading In[1], in expression starting on line 2",
        " in gzopen at /home/bates/.julia/v0.3/GZip/src/GZip.jl:235",
        " in gzopen at /home/bates/.julia/v0.3/GZip/src/GZip.jl:250",
        " in read_rda at /home/bates/.julia/v0.3/DataFrames/src/RDA.jl:272"
       ]
      }
     ],
     "prompt_number": 1
    },
    {
     "cell_type": "markdown",
     "metadata": {},
     "source": [
      "The `MixedModels` package provides an `lmm` function that generates an object of a type that inherits from the abstract type `LinearMixedModel`.  The reason for having different concrete types is to be able to exploit properties of certain mixed-effects model structures."
     ]
    },
    {
     "cell_type": "code",
     "collapsed": false,
     "input": [
      "using MixedModels\n",
      "modl = lmm(rt ~ 1 + c1 + c2 + c3 + (1 + c1 + c2 + c3|subj), kwdyz);\n",
      "typeof(modl)"
     ],
     "language": "python",
     "metadata": {},
     "outputs": [
      {
       "ename": "LoadError",
       "evalue": "kwdyz not defined\nwhile loading In[2], in expression starting on line 2",
       "output_type": "pyerr",
       "traceback": [
        "kwdyz not defined\nwhile loading In[2], in expression starting on line 2"
       ]
      }
     ],
     "prompt_number": 2
    },
    {
     "cell_type": "markdown",
     "metadata": {},
     "source": [
      "In this case the model has a single vector-valued random-effects term.  The `fit` generic function applied to a `LinearMixedModel` object by default fits by maximum likelihood.  (At present the `show` method for the fitted model doesn't show the standard deviations and correlations properly.)  An optional second argument is `verbose`."
     ]
    },
    {
     "cell_type": "code",
     "collapsed": false,
     "input": [
      "fit(modl, true);"
     ],
     "language": "python",
     "metadata": {},
     "outputs": [
      {
       "ename": "LoadError",
       "evalue": "modl not defined\nwhile loading In[3], in expression starting on line 1",
       "output_type": "pyerr",
       "traceback": [
        "modl not defined\nwhile loading In[3], in expression starting on line 1"
       ]
      }
     ],
     "prompt_number": 3
    },
    {
     "cell_type": "markdown",
     "metadata": {},
     "source": [
      "The fitted model is"
     ]
    },
    {
     "cell_type": "code",
     "collapsed": false,
     "input": [
      "modl"
     ],
     "language": "python",
     "metadata": {},
     "outputs": [
      {
       "ename": "LoadError",
       "evalue": "modl not defined\nwhile loading In[4], in expression starting on line 1",
       "output_type": "pyerr",
       "traceback": [
        "modl not defined\nwhile loading In[4], in expression starting on line 1"
       ]
      }
     ],
     "prompt_number": 4
    },
    {
     "cell_type": "markdown",
     "metadata": {},
     "source": [
      "The speed with which this model can be fit is remarkable.  The first fit is slow because the methods used are compiled.  Subsequent fits are fast."
     ]
    },
    {
     "cell_type": "code",
     "collapsed": false,
     "input": [
      "@time fit(lmm(rt ~ c1+c2+c3+(c1+c2+c3|subj),kwdyz));"
     ],
     "language": "python",
     "metadata": {},
     "outputs": [
      {
       "ename": "LoadError",
       "evalue": "kwdyz not defined\nwhile loading In[5], in expression starting on line 56",
       "output_type": "pyerr",
       "traceback": [
        "kwdyz not defined\nwhile loading In[5], in expression starting on line 56"
       ]
      }
     ],
     "prompt_number": 5
    },
    {
     "cell_type": "markdown",
     "metadata": {},
     "source": [
      "The parameters being optimized are the $\\theta$ parameters, which are the vector of elements on and below the diagonal in the (left) Cholesky factor of the relative covariance matrix, called $\\lambda$. "
     ]
    },
    {
     "cell_type": "code",
     "collapsed": false,
     "input": [
      "modl.\u03bb"
     ],
     "language": "python",
     "metadata": {},
     "outputs": [
      {
       "ename": "LoadError",
       "evalue": "modl not defined\nwhile loading In[6], in expression starting on line 1",
       "output_type": "pyerr",
       "traceback": [
        "modl not defined\nwhile loading In[6], in expression starting on line 1"
       ]
      }
     ],
     "prompt_number": 6
    },
    {
     "cell_type": "markdown",
     "metadata": {},
     "source": [
      "Notice that that the fourth column of `lambda` is zero and thus `lambda` is singular.  This means that a linear combination of the coefficients has zero variance.  In other words, there are only three degrees of freedom in the four dimensional random effects vector."
     ]
    },
    {
     "cell_type": "code",
     "collapsed": false,
     "input": [
      "cond(modl)   # condition number of the \u039b matrix"
     ],
     "language": "python",
     "metadata": {},
     "outputs": [
      {
       "ename": "LoadError",
       "evalue": "modl not defined\nwhile loading In[7], in expression starting on line 1",
       "output_type": "pyerr",
       "traceback": [
        "modl not defined\nwhile loading In[7], in expression starting on line 1"
       ]
      }
     ],
     "prompt_number": 7
    },
    {
     "cell_type": "markdown",
     "metadata": {},
     "source": [
      "There are different ways of determining the direction of the linear combination with zero variance.  The easiest is to take the singular value decomposition of `lambda`."
     ]
    },
    {
     "cell_type": "code",
     "collapsed": false,
     "input": [
      "lfact = svdfact(modl.\u03bb[1]);\n",
      "show(lfact[:S])"
     ],
     "language": "python",
     "metadata": {},
     "outputs": [
      {
       "ename": "LoadError",
       "evalue": "modl not defined\nwhile loading In[8], in expression starting on line 1",
       "output_type": "pyerr",
       "traceback": [
        "modl not defined\nwhile loading In[8], in expression starting on line 1"
       ]
      }
     ],
     "prompt_number": 8
    },
    {
     "cell_type": "markdown",
     "metadata": {},
     "source": [
      "Because the singular values are non-negative and returned in decreasing order, zero or near-zero singular values will be trailing elements of `S`.  The direction of the linear combinations that have zero variance is the corresponding column of `U`, the matrix of left singular vectors."
     ]
    },
    {
     "cell_type": "code",
     "collapsed": false,
     "input": [
      "svec = lfact[:U][:,end];\n",
      "show(svec)"
     ],
     "language": "python",
     "metadata": {},
     "outputs": [
      {
       "ename": "LoadError",
       "evalue": "`getindex` has no method matching getindex(::Function, ::Symbol)\n\nYou might have used a 2d row vector where a 1d column vector was required.\nNote the difference between 1d column vector [1,2,3] and 2d row vector [1 2 3]\nYou can convert to a column vector with the vec() function\nwhile loading In[9], in expression starting on line 1",
       "output_type": "pyerr",
       "traceback": [
        "`getindex` has no method matching getindex(::Function, ::Symbol)\n\nYou might have used a 2d row vector where a 1d column vector was required.\nNote the difference between 1d column vector [1,2,3] and 2d row vector [1 2 3]\nYou can convert to a column vector with the vec() function\nwhile loading In[9], in expression starting on line 1"
       ]
      }
     ],
     "prompt_number": 9
    },
    {
     "cell_type": "markdown",
     "metadata": {},
     "source": [
      "We can verify that this combination does indeed have (near) zero variance by evaluating the relative covariance matrix and the quadratic form for the variance of this combination"
     ]
    },
    {
     "cell_type": "code",
     "collapsed": false,
     "input": [
      "relcov = modl.\u03bb[1] * modl.\u03bb[1]'"
     ],
     "language": "python",
     "metadata": {},
     "outputs": [
      {
       "ename": "LoadError",
       "evalue": "modl not defined\nwhile loading In[10], in expression starting on line 1",
       "output_type": "pyerr",
       "traceback": [
        "modl not defined\nwhile loading In[10], in expression starting on line 1"
       ]
      }
     ],
     "prompt_number": 10
    },
    {
     "cell_type": "code",
     "collapsed": false,
     "input": [
      "dot(svec,relcov*svec)"
     ],
     "language": "python",
     "metadata": {},
     "outputs": [
      {
       "ename": "LoadError",
       "evalue": "svec not defined\nwhile loading In[11], in expression starting on line 1",
       "output_type": "pyerr",
       "traceback": [
        "svec not defined\nwhile loading In[11], in expression starting on line 1"
       ]
      }
     ],
     "prompt_number": 11
    },
    {
     "cell_type": "markdown",
     "metadata": {},
     "source": [
      "In fact, it may be easier conceptually to begin with the relative covariance matrix and its eigendecomposition, which is related to the principle components."
     ]
    },
    {
     "cell_type": "code",
     "collapsed": false,
     "input": [
      "ev = eigfact(relcov);\n",
      "ev[:values]"
     ],
     "language": "python",
     "metadata": {},
     "outputs": [
      {
       "ename": "LoadError",
       "evalue": "relcov not defined\nwhile loading In[12], in expression starting on line 1",
       "output_type": "pyerr",
       "traceback": [
        "relcov not defined\nwhile loading In[12], in expression starting on line 1"
       ]
      }
     ],
     "prompt_number": 12
    },
    {
     "cell_type": "markdown",
     "metadata": {},
     "source": [
      "The eigenvalues of `lambda * lambda'` are the squares of the singular values of `lambda` but in the opposite order.  The direction of zero variance is therefore"
     ]
    },
    {
     "cell_type": "code",
     "collapsed": false,
     "input": [
      "evec = ev[:vectors][1,:];\n",
      "show(evec)"
     ],
     "language": "python",
     "metadata": {},
     "outputs": [
      {
       "ename": "LoadError",
       "evalue": "ev not defined\nwhile loading In[13], in expression starting on line 1",
       "output_type": "pyerr",
       "traceback": [
        "ev not defined\nwhile loading In[13], in expression starting on line 1"
       ]
      }
     ],
     "prompt_number": 13
    },
    {
     "cell_type": "heading",
     "level": 2,
     "metadata": {},
     "source": [
      "Convergence for this model"
     ]
    },
    {
     "cell_type": "markdown",
     "metadata": {},
     "source": [
      "\n",
      "\n",
      "After updating the model structure for a new value of the parameters the gradient can be extracted relatively easily.  At convergence, the gradient is"
     ]
    },
    {
     "cell_type": "code",
     "collapsed": false,
     "input": [
      "grad!(zeros(10),modl)"
     ],
     "language": "python",
     "metadata": {},
     "outputs": [
      {
       "ename": "LoadError",
       "evalue": "modl not defined\nwhile loading In[14], in expression starting on line 1",
       "output_type": "pyerr",
       "traceback": [
        "modl not defined\nwhile loading In[14], in expression starting on line 1"
       ]
      },
      {
       "output_type": "stream",
       "stream": "stderr",
       "text": [
        "Warning: could not import Base.add! into NumericExtensions\n"
       ]
      }
     ],
     "prompt_number": 14
    }
   ],
   "metadata": {}
  }
 ]
}