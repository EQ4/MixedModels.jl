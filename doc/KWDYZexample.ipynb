{
 "metadata": {
  "language": "Julia",
  "name": ""
 },
 "nbformat": 3,
 "nbformat_minor": 0,
 "worksheets": [
  {
   "cells": [
    {
     "cell_type": "heading",
     "level": 1,
     "metadata": {},
     "source": [
      "Fitting the KWDYZ example in Julia"
     ]
    },
    {
     "cell_type": "markdown",
     "metadata": {},
     "source": [
      "This is an example from _Kleigl et al._ (2011) using data from the saved R data set, `KWDYZ.rda` in the `data` directory for this package.\n",
      "\n",
      "The `read_rda` function in the `DataFrames` package for Julia reads a saved R data file returning the contents as a dictionary (like a list in R but the components can only be retrieved by name)."
     ]
    },
    {
     "cell_type": "code",
     "collapsed": false,
     "input": [
      "using DataFrames\n",
      "kwdyz = DataFrame(read_rda(Pkg.dir(\"MixedModels\",\"data\",\"KWDYZ.rda\"))[\"KWDYZ\"])"
     ],
     "language": "python",
     "metadata": {},
     "outputs": [
      {
       "html": [
        "<table class=\"data-frame\"><tr><th></th><th>item</th><th>tar</th><th>dir</th><th>rt</th><th>subj</th><th>c1</th><th>c2</th><th>c3</th><th>srt</th><th>lrt</th><th>qrt</th><th>prt</th></tr><tr><th>1</th><td>39</td><td>dod</td><td>hor</td><td>506.1</td><td>1</td><td>0.25</td><td>0.5</td><td>-0.75</td><td>0.5061</td><td>6.226734278220032</td><td>22.4966664197165</td><td>14.036235047977032</td></tr><tr><th>2</th><td>52</td><td>dod</td><td>hor</td><td>489.6</td><td>1</td><td>0.25</td><td>0.5</td><td>-0.75</td><td>0.48960000000000004</td><td>6.193588731198116</td><td>22.126906697502932</td><td>13.840242483234347</td></tr><tr><th>3</th><td>89</td><td>dod</td><td>hor</td><td>518.7</td><td>1</td><td>0.25</td><td>0.5</td><td>-0.75</td><td>0.5187</td><td>6.251325681357355</td><td>22.774986278810356</td><td>14.183437487026127</td></tr><tr><th>4</th><td>104</td><td>dod</td><td>hor</td><td>459.6</td><td>1</td><td>0.25</td><td>0.5</td><td>-0.75</td><td>0.4596</td><td>6.130356545974601</td><td>21.438283513378586</td><td>13.473903246772165</td></tr><tr><th>5</th><td>120</td><td>dod</td><td>hor</td><td>384.2</td><td>1</td><td>0.25</td><td>0.5</td><td>-0.75</td><td>0.3842</td><td>5.9511632503344565</td><td>19.601020381602584</td><td>12.487565630398025</td></tr><tr><th>6</th><td>161</td><td>dod</td><td>hor</td><td>470.0</td><td>1</td><td>0.25</td><td>0.5</td><td>-0.75</td><td>0.47</td><td>6.152732694704104</td><td>21.6794833886788</td><td>13.6024187183506</td></tr><tr><th>7</th><td>194</td><td>dod</td><td>hor</td><td>422.0</td><td>1</td><td>0.25</td><td>0.5</td><td>-0.75</td><td>0.422</td><td>6.045005314036012</td><td>20.54263858417414</td><td>12.994746292564496</td></tr><tr><th>8</th><td>248</td><td>dod</td><td>hor</td><td>462.8</td><td>1</td><td>0.25</td><td>0.5</td><td>-0.75</td><td>0.4628</td><td>6.137294995319522</td><td>21.51278689523977</td><td>13.513623211612503</td></tr><tr><th>9</th><td>270</td><td>dod</td><td>hor</td><td>471.9</td><td>1</td><td>0.25</td><td>0.5</td><td>-0.75</td><td>0.4719</td><td>6.156767098732342</td><td>21.723259423944647</td><td>13.625720058735002</td></tr><tr><th>10</th><td>277</td><td>dod</td><td>hor</td><td>445.5</td><td>1</td><td>0.25</td><td>0.5</td><td>-0.75</td><td>0.4455</td><td>6.099197246910864</td><td>21.106870919205434</td><td>13.29696266938164</td></tr><tr><th>11</th><td>289</td><td>dod</td><td>hor</td><td>399.1</td><td>1</td><td>0.25</td><td>0.5</td><td>-0.75</td><td>0.3991</td><td>5.989212012054688</td><td>19.977487329491666</td><td>12.690774122389815</td></tr><tr><th>12</th><td>299</td><td>dod</td><td>hor</td><td>389.7</td><td>1</td><td>0.25</td><td>0.5</td><td>-0.75</td><td>0.3897</td><td>5.965377212344664</td><td>19.74082065163452</td><td>12.563095143693552</td></tr><tr><th>13</th><td>304</td><td>dod</td><td>hor</td><td>409.8</td><td>1</td><td>0.25</td><td>0.5</td><td>-0.75</td><td>0.4098</td><td>6.0156692358048</td><td>20.243517480912253</td><td>12.834021158252208</td></tr><tr><th>14</th><td>320</td><td>dod</td><td>hor</td><td>370.1</td><td>1</td><td>0.25</td><td>0.5</td><td>-0.75</td><td>0.37010000000000004</td><td>5.9137732393921105</td><td>19.237983262286097</td><td>12.291045469327695</td></tr><tr><th>15</th><td>378</td><td>dod</td><td>hor</td><td>408.2</td><td>1</td><td>0.25</td><td>0.5</td><td>-0.75</td><td>0.4082</td><td>6.011757250375744</td><td>20.203960007879644</td><td>12.812739115708265</td></tr><tr><th>16</th><td>479</td><td>dod</td><td>hor</td><td>417.5</td><td>1</td><td>0.25</td><td>0.5</td><td>-0.75</td><td>0.4175</td><td>6.0342845442909105</td><td>20.43281674170255</td><td>12.935777779076782</td></tr><tr><th>17</th><td>494</td><td>dod</td><td>hor</td><td>316.7</td><td>1</td><td>0.25</td><td>0.5</td><td>-0.75</td><td>0.3167</td><td>5.757954953544594</td><td>17.79606698121807</td><td>11.50482284638836</td></tr><tr><th>18</th><td>503</td><td>dod</td><td>hor</td><td>440.7</td><td>1</td><td>0.25</td><td>0.5</td><td>-0.75</td><td>0.4407</td><td>6.088364371847941</td><td>20.992855927672156</td><td>13.235993220286256</td></tr><tr><th>19</th><td>508</td><td>dod</td><td>hor</td><td>398.7</td><td>1</td><td>0.25</td><td>0.5</td><td>-0.75</td><td>0.3987</td><td>5.988209254387309</td><td>19.967473550752484</td><td>12.685376464020894</td></tr><tr><th>20</th><td>554</td><td>dod</td><td>hor</td><td>348.7</td><td>1</td><td>0.25</td><td>0.5</td><td>-0.75</td><td>0.3487</td><td>5.854211953681605</td><td>18.673510650116114</td><td>11.984361453423922</td></tr><tr><th>21</th><td>587</td><td>dod</td><td>hor</td><td>275.0</td><td>1</td><td>0.25</td><td>0.5</td><td>-0.75</td><td>0.275</td><td>5.616771097666572</td><td>16.583123951777</td><td>10.835959687916407</td></tr><tr><th>22</th><td>590</td><td>dod</td><td>hor</td><td>411.2</td><td>1</td><td>0.25</td><td>0.5</td><td>-0.75</td><td>0.4112</td><td>6.019079714140955</td><td>20.27806696901852</td><td>12.852603734733455</td></tr><tr><th>23</th><td>4</td><td>dod</td><td>ver</td><td>525.7</td><td>1</td><td>0.25</td><td>0.5</td><td>-0.75</td><td>0.5257000000000001</td><td>6.264730707825403</td><td>22.928148638736623</td><td>14.264328138370793</td></tr><tr><th>24</th><td>40</td><td>dod</td><td>ver</td><td>466.7</td><td>1</td><td>0.25</td><td>0.5</td><td>-0.75</td><td>0.4667</td><td>6.14568665295577</td><td>21.603240497666086</td><td>13.561818714724618</td></tr><tr><th>25</th><td>79</td><td>dod</td><td>ver</td><td>469.4</td><td>1</td><td>0.25</td><td>0.5</td><td>-0.75</td><td>0.4694</td><td>6.151455283416923</td><td>21.66564100136435</td><td>13.595049135993305</td></tr><tr><th>26</th><td>116</td><td>dod</td><td>ver</td><td>484.2</td><td>1</td><td>0.25</td><td>0.5</td><td>-0.75</td><td>0.48419999999999996</td><td>6.182498044503958</td><td>22.004544985070698</td><td>13.77527523217376</td></tr><tr><th>27</th><td>164</td><td>dod</td><td>ver</td><td>518.2</td><td>1</td><td>0.25</td><td>0.5</td><td>-0.75</td><td>0.5182</td><td>6.250361268128009</td><td>22.764006677208652</td><td>14.177635597194842</td></tr><tr><th>28</th><td>167</td><td>dod</td><td>ver</td><td>519.8</td><td>1</td><td>0.25</td><td>0.5</td><td>-0.75</td><td>0.5197999999999999</td><td>6.25344412220739</td><td>22.799122790142604</td><td>14.19619032008118</td></tr><tr><th>29</th><td>169</td><td>dod</td><td>ver</td><td>505.8</td><td>1</td><td>0.25</td><td>0.5</td><td>-0.75</td><td>0.5058</td><td>6.226141334235865</td><td>22.489997776789576</td><td>14.032704652660527</td></tr><tr><th>30</th><td>177</td><td>dod</td><td>ver</td><td>465.0</td><td>1</td><td>0.25</td><td>0.5</td><td>-0.75</td><td>0.465</td><td>6.142037405587356</td><td>21.563858652847824</td><td>13.540839039367318</td></tr><tr><th>&vellip;</th><td>&vellip;</td><td>&vellip;</td><td>&vellip;</td><td>&vellip;</td><td>&vellip;</td><td>&vellip;</td><td>&vellip;</td><td>&vellip;</td><td>&vellip;</td><td>&vellip;</td><td>&vellip;</td><td>&vellip;</td></tr></table>"
       ],
       "metadata": {},
       "output_type": "pyout",
       "prompt_number": 1,
       "text": [
        "28710x12 DataFrame\n",
        "|-------|-------|-------|-------|-------|------|-------|------|-------|--------|\n",
        "| Row # | item  | tar   | dir   | rt    | subj | c1    | c2   | c3    | srt    |\n",
        "| 1     | \"39\"  | \"dod\" | \"hor\" | 506.1 | \"1\"  | 0.25  | 0.5  | -0.75 | 0.5061 |\n",
        "| 2     | \"52\"  | \"dod\" | \"hor\" | 489.6 | \"1\"  | 0.25  | 0.5  | -0.75 | 0.4896 |\n",
        "| 3     | \"89\"  | \"dod\" | \"hor\" | 518.7 | \"1\"  | 0.25  | 0.5  | -0.75 | 0.5187 |\n",
        "| 4     | \"104\" | \"dod\" | \"hor\" | 459.6 | \"1\"  | 0.25  | 0.5  | -0.75 | 0.4596 |\n",
        "| 5     | \"120\" | \"dod\" | \"hor\" | 384.2 | \"1\"  | 0.25  | 0.5  | -0.75 | 0.3842 |\n",
        "| 6     | \"161\" | \"dod\" | \"hor\" | 470.0 | \"1\"  | 0.25  | 0.5  | -0.75 | 0.47   |\n",
        "| 7     | \"194\" | \"dod\" | \"hor\" | 422.0 | \"1\"  | 0.25  | 0.5  | -0.75 | 0.422  |\n",
        "| 8     | \"248\" | \"dod\" | \"hor\" | 462.8 | \"1\"  | 0.25  | 0.5  | -0.75 | 0.4628 |\n",
        "| 9     | \"270\" | \"dod\" | \"hor\" | 471.9 | \"1\"  | 0.25  | 0.5  | -0.75 | 0.4719 |\n",
        "| 10    | \"277\" | \"dod\" | \"hor\" | 445.5 | \"1\"  | 0.25  | 0.5  | -0.75 | 0.4455 |\n",
        "| 11    | \"289\" | \"dod\" | \"hor\" | 399.1 | \"1\"  | 0.25  | 0.5  | -0.75 | 0.3991 |\n",
        "\u22ee\n",
        "| 28699 | \"566\" | \"val\" | \"ver\" | 349.4 | \"61\" | -0.75 | -0.5 | 0.25  | 0.3494 |\n",
        "| 28700 | \"577\" | \"val\" | \"ver\" | 577.8 | \"61\" | -0.75 | -0.5 | 0.25  | 0.5778 |\n",
        "| 28701 | \"578\" | \"val\" | \"ver\" | 334.7 | \"61\" | -0.75 | -0.5 | 0.25  | 0.3347 |\n",
        "| 28702 | \"580\" | \"val\" | \"ver\" | 346.2 | \"61\" | -0.75 | -0.5 | 0.25  | 0.3462 |\n",
        "| 28703 | \"581\" | \"val\" | \"ver\" | 302.3 | \"61\" | -0.75 | -0.5 | 0.25  | 0.3023 |\n",
        "| 28704 | \"586\" | \"val\" | \"ver\" | 328.3 | \"61\" | -0.75 | -0.5 | 0.25  | 0.3283 |\n",
        "| 28705 | \"591\" | \"val\" | \"ver\" | 353.7 | \"61\" | -0.75 | -0.5 | 0.25  | 0.3537 |\n",
        "| 28706 | \"592\" | \"val\" | \"ver\" | 376.0 | \"61\" | -0.75 | -0.5 | 0.25  | 0.376  |\n",
        "| 28707 | \"593\" | \"val\" | \"ver\" | 295.9 | \"61\" | -0.75 | -0.5 | 0.25  | 0.2959 |\n",
        "| 28708 | \"596\" | \"val\" | \"ver\" | 254.3 | \"61\" | -0.75 | -0.5 | 0.25  | 0.2543 |\n",
        "| 28709 | \"600\" | \"val\" | \"ver\" | 282.6 | \"61\" | -0.75 | -0.5 | 0.25  | 0.2826 |\n",
        "| 28710 | \"602\" | \"val\" | \"ver\" | 450.5 | \"61\" | -0.75 | -0.5 | 0.25  | 0.4505 |\n",
        "\n",
        "|-------|---------|---------|---------|\n",
        "| Row # | lrt     | qrt     | prt     |\n",
        "| 1     | 6.22673 | 22.4967 | 14.0362 |\n",
        "| 2     | 6.19359 | 22.1269 | 13.8402 |\n",
        "| 3     | 6.25133 | 22.775  | 14.1834 |\n",
        "| 4     | 6.13036 | 21.4383 | 13.4739 |\n",
        "| 5     | 5.95116 | 19.601  | 12.4876 |\n",
        "| 6     | 6.15273 | 21.6795 | 13.6024 |\n",
        "| 7     | 6.04501 | 20.5426 | 12.9947 |\n",
        "| 8     | 6.13729 | 21.5128 | 13.5136 |\n",
        "| 9     | 6.15677 | 21.7233 | 13.6257 |\n",
        "| 10    | 6.0992  | 21.1069 | 13.297  |\n",
        "| 11    | 5.98921 | 19.9775 | 12.6908 |\n",
        "\u22ee\n",
        "| 28699 | 5.85622 | 18.6922 | 11.9946 |\n",
        "| 28700 | 6.35923 | 24.0375 | 14.8478 |\n",
        "| 28701 | 5.81323 | 18.2948 | 11.7778 |\n",
        "| 28702 | 5.84702 | 18.6065 | 11.9478 |\n",
        "| 28703 | 5.71142 | 17.3868 | 11.2799 |\n",
        "| 28704 | 5.79393 | 18.1191 | 11.6817 |\n",
        "| 28705 | 5.86845 | 18.8069 | 12.057  |\n",
        "| 28706 | 5.92959 | 19.3907 | 12.3738 |\n",
        "| 28707 | 5.69002 | 17.2017 | 11.178  |\n",
        "| 28708 | 5.53851 | 15.9468 | 10.4821 |\n",
        "| 28709 | 5.64403 | 16.8107 | 10.962  |\n",
        "| 28710 | 6.11036 | 21.225  | 13.3601 |"
       ]
      }
     ],
     "prompt_number": 1
    },
    {
     "cell_type": "markdown",
     "metadata": {},
     "source": [
      "The `MixedModels` package provides an `lmm` function that generates an object of a type that inherits from the abstract type `LinearMixedModel`.  The reason for having different concrete types is to be able to exploit properties of certain mixed-effects model structures."
     ]
    },
    {
     "cell_type": "code",
     "collapsed": false,
     "input": [
      "using MixedModels\n",
      "modl = lmm(rt ~ 1 + c1 + c2 + c3 + (1 + c1 + c2 + c3|subj), kwdyz);\n",
      "typeof(modl)"
     ],
     "language": "python",
     "metadata": {},
     "outputs": [
      {
       "metadata": {},
       "output_type": "pyout",
       "prompt_number": 2,
       "text": [
        "LinearMixedModel{PLSOne} (constructor with 1 method)"
       ]
      }
     ],
     "prompt_number": 2
    },
    {
     "cell_type": "markdown",
     "metadata": {},
     "source": [
      "In this case the model has a single vector-valued random-effects term.  The `fit` generic function applied to a `LinearMixedModel` object by default fits by maximum likelihood.  (At present the `show` method for the fitted model doesn't show the standard deviations and correlations properly.)  An optional second argument is `verbose`."
     ]
    },
    {
     "cell_type": "code",
     "collapsed": false,
     "input": [
      "fit(modl, true);"
     ],
     "language": "python",
     "metadata": {},
     "outputs": [
      {
       "output_type": "stream",
       "stream": "stderr",
       "text": [
        "Warning: could not import Base.add! into NumericExtensions\n"
       ]
      },
      {
       "output_type": "stream",
       "stream": "stdout",
       "text": [
        "f_1: 326166.1263, [1"
       ]
      },
      {
       "output_type": "stream",
       "stream": "stdout",
       "text": [
        ".0,0.0,0.0,0.0,1.0,0.0,0.0,1.0,0.0,1.0]\n",
        "f_2: 335185.27855, ["
       ]
      },
      {
       "output_type": "stream",
       "stream": "stdout",
       "text": [
        "0.138266,0.798788,-0.452945,-0.562661,0.1,-0.623885,-0.622088,0.1,0.65086,0.1]\n",
        "f_3: 326814.85998, [0.372968,0.497731,-0.117794,-0.19204,0.266097,-0.248843,-0.246987,0.259789,0.278187,0.258965]\n",
        "f_4: 326003.19131, [0.747879,0.144424,-0.0146935,-0.0278047,0.61191,-0.0405946,-0.0401322,0.602228,0.0483546,0.600947]\n",
        "f_5: 326347.73689, [1.21197,0.705969,0.0524471,-0.09014,0.0,-0.490896,-0.486586,0.0,0.555275,0.0]\n",
        "f_6: 326053.25655, [0.871883,0.335543,-0.007095,-0.0347958,0.166254,-0.156955,-0.154431,0.144542,0.198828,0.138029]\n",
        "f_7: 325904.85279, [0.777633,0.195834,-0.013189,-0.0291876,0.424574,-0.068158,-0.0671137,0.405719,0.0861143,0.400354]\n",
        "f_8: 326372.64399, [0.820954,0.499264,-0.0138643,0.0196845,0.0,-0.363328,-0.447045,0.0,0.514448,0.0]\n",
        "f_9: 325956.84608, [0.782488,0.245762,-0.0132566,-0.0239231,0.174999,-0.116015,-0.139009,0.121669,0.174931,0.096958]\n",
        "f_10: 325856.28706, [0.778845,0.208963,-0.0132057,-0.0278792,0.339742,-0.0807092,-0.0865537,0.30475,0.110653,0.289766]\n",
        "f_11: 326216.79515, [0.805228,0.239666,-0.0205013,-0.0133913,0.0,-0.0010574,-0.378345,0.0,0.313605,0.0]\n",
        "f_12: 325826.57912, [0.781638,0.212154,-0.0139552,-0.0263844,0.262774,-0.0718929,-0.129736,0.189231,0.137151,0.137449]\n",
        "f_13: 326055.44056, [0.832632,-0.102827,-0.0492794,0.00226386,0.890244,0.252343,-0.680067,0.750635,-0.435582,0.0]\n",
        "f_14: 325861.67058, [0.789595,0.149623,-0.0195604,-0.0220845,0.440662,0.0126231,-0.272271,0.33652,-0.0151095,0.0189438]\n",
        "f_15: 325819.44696, [0.783895,0.193676,-0.015549,-0.025171,0.320688,-0.0451311,-0.174781,0.235964,0.0886382,0.100748]\n",
        "f_16: 325814.89707, [0.784133,0.197544,-0.0155973,-0.0257404,0.300036,-0.0460753,-0.166351,0.204304,0.0916271,0.0786363]\n",
        "f_17: 325816.46962, [0.78954,0.203683,-0.0177072,-0.0365147,0.254962,-0.0172971,-0.0846468,0.143892,0.0738928,0.0]\n",
        "f_18: 325812.07777, [0.785703,0.199328,-0.0162087,-0.0288889,0.286321,-0.0374854,-0.141413,0.185585,0.0864021,0.0204141]\n",
        "f_19: 325849.49562, [0.803424,0.200715,-0.0290455,-0.0390373,0.255533,0.178868,-0.205293,0.175038,-0.0526694,0.0]\n",
        "f_20: 325810.9361, [0.787515,0.199467,-0.0175281,-0.0299259,0.283031,-0.00877711,-0.148336,0.184506,0.0697789,0.0116909]\n",
        "f_21: 325843.00348, [0.802682,0.208239,-0.0254771,-0.0431787,0.22133,-0.0380075,-0.0791246,0.079555,0.0665562,0.0]\n",
        "f_22: 325810.25791, [0.789055,0.200358,-0.0183343,-0.0312829,0.276132,-0.0117903,-0.140489,0.171779,0.0694555,0.000483029]\n",
        "f_23: 325814.40835, [0.801664,0.203336,-0.0329158,-0.044067,0.248502,0.0535612,-0.121721,0.119559,-0.0131582,0.0]\n",
        "f_24: 325809.92098, [0.791052,0.200827,-0.0206667,-0.0333227,0.271631,-0.000562808,-0.137412,0.162973,0.0556033,0.0]\n",
        "f_25: 325822.81833, [0.781145,0.213167,-0.0279244,-0.0432486,0.260327,0.0180607,-0.0797487,0.0586833,0.159238,0.0]\n",
        "f_26: 325809.82283, [0.790054,0.20208,-0.021399,-0.0343275,0.270485,0.00137472,-0.130881,0.151078,0.0667791,0.0]\n",
        "f_27: 325809.75869, [0.791344,0.201904,-0.0210958,-0.0347823,0.269797,0.0047862,-0.129242,0.162051,0.0493579,0.0]\n",
        "f_28: 325809.63385, [0.791025,0.202166,-0.0213414,-0.0345022,0.268615,0.00504998,-0.127647,0.155613,0.0580836,0.0]\n",
        "f_29: 325809.64588, [0.791494,0.200758,-0.0200385,-0.0353842,0.266834,0.0183326,-0.114062,0.157455,0.0538155,0.0]\n",
        "f_30: 325809.57083, [0.791221,0.201576,-0.0207952,-0.0348719,0.267868,0.010698,-0.121868,0.156386,0.0562908,0.0]\n",
        "f_31: 325858.29781, [0.787222,0.21018,-0.0213727,0.00147812,0.138387,0.012899,-0.0956697,0.0929758,0.0676083,0.0]\n",
        "f_32: 325809.79196, ["
       ]
      },
      {
       "output_type": "stream",
       "stream": "stdout",
       "text": [
        "0.790819,0.202447,-0.020853,-0.0311215,0.25337,0.0109188,-0.119145,0.149416,0.0574415,0.0]\n",
        "f_33: 325809.56143, [0.791164,0.201699,-0.0208034,-0.0343396,0.265792,0.0107293,-0.121481,0.15539,0.0564539,0.0]\n",
        "f_34: 325809.6545, [0.791022,0.201438,-0.020695,-0.0339408,0.273939,0.0155195,-0.116709,0.152301,0.0569198,0.0]\n",
        "f_35: 325809.55826, [0.791146,0.201666,-0.0207897,-0.0342895,0.266822,0.0113346,-0.120878,0.154999,0.0565125,0.0]\n",
        "FTOL_REACHED\n"
       ]
      }
     ],
     "prompt_number": 3
    },
    {
     "cell_type": "markdown",
     "metadata": {},
     "source": [
      "The fitted model is"
     ]
    },
    {
     "cell_type": "code",
     "collapsed": false,
     "input": [
      "modl"
     ],
     "language": "python",
     "metadata": {},
     "outputs": [
      {
       "metadata": {},
       "output_type": "pyout",
       "prompt_number": 4,
       "text": [
        "Linear mixed model fit by maximum likelihood\n",
        "Formula: rt ~ 1 + c1 + c2 + c3 + ((1 + c1 + c2 + c3) | subj)\n",
        "\n",
        " logLik: -162904.779130, deviance: 325809.558259\n",
        "\n",
        " Variance components:\n",
        "                Variance    Std.Dev.  Corr.\n",
        " subj         3052.378537   55.248335\n",
        "              545.521153   23.356394   0.60\n",
        "              119.895652   10.949687  -0.13 -0.13\n",
        "               92.564427    9.621041  -0.25 -0.25 -0.25\n",
        " Residual     4876.683678   69.833256\n",
        " Number of obs: 28710; levels of grouping factors: 61\n",
        "\n",
        "  Fixed-effects parameters:\n",
        "             Estimate Std.Error z value\n",
        "(Intercept)   389.734   7.09751 54.9113\n",
        "c1            33.7824    3.2999 10.2374\n",
        "c2             13.984   2.32075 6.02565\n",
        "c3            2.74655   2.22205 1.23604\n"
       ]
      }
     ],
     "prompt_number": 4
    },
    {
     "cell_type": "markdown",
     "metadata": {},
     "source": [
      "The speed with which this model can be fit is remarkable.  The first fit is slow because the methods used are compiled.  Subsequent fits are fast."
     ]
    },
    {
     "cell_type": "code",
     "collapsed": false,
     "input": [
      "@time fit(lmm(rt ~ c1+c2+c3+(c1+c2+c3|subj),kwdyz));"
     ],
     "language": "python",
     "metadata": {},
     "outputs": [
      {
       "output_type": "stream",
       "stream": "stdout",
       "text": [
        "elapsed time: "
       ]
      },
      {
       "output_type": "stream",
       "stream": "stdout",
       "text": [
        "0.313888288 seconds (51544648 bytes allocated, 21.25% gc time)\n"
       ]
      }
     ],
     "prompt_number": 5
    },
    {
     "cell_type": "markdown",
     "metadata": {},
     "source": [
      "The parameters being optimized are the $\\theta$ parameters, which are the vector of elements on and below the diagonal in the (left) Cholesky factor of the relative covariance matrix, called $\\lambda$. In the current version of the code the elements of the `\u03bb` member are subtypes of `AbstractPDMat` from the `PDMats` package."
     ]
    },
    {
     "cell_type": "code",
     "collapsed": false,
     "input": [
      "modl.\u03bb"
     ],
     "language": "python",
     "metadata": {},
     "outputs": [
      {
       "output_type": "stream",
       "stream": "stdout",
       "text": [
        "Cholesky{Float64} with factor:"
       ]
      },
      {
       "output_type": "stream",
       "stream": "stdout",
       "text": [
        "\n",
        "Cholesky{Float64} with factor:"
       ]
      },
      {
       "metadata": {},
       "output_type": "pyout",
       "prompt_number": 6,
       "text": [
        "1-element Array{Any,1}:\n",
        " PDMat(4,4x4 Array{Float64,2}:\n",
        "  0.625913    0.159548    -0.0164477   -0.027128  \n",
        "  0.159548    0.111863    -0.00116828  -0.039168  \n",
        " -0.0164477  -0.00116828   0.0245855    0.00810216\n",
        " -0.027128   -0.039168     0.00810216   0.018981  ,4x4 Triangular{Float64,Array{Float64,2},:L,false}:\n",
        "  0.791146    0.0        0.0        0.0\n",
        "  0.201666    0.266822   0.0        0.0\n",
        " -0.0207897   0.0113346  0.154999   0.0\n",
        " -0.0342895  -0.120878   0.0565125  0.0)"
       ]
      }
     ],
     "prompt_number": 6
    },
    {
     "cell_type": "markdown",
     "metadata": {},
     "source": [
      "Notice that that the fourth column of the Cholesky factor of $\\lambda$ is zero and thus  is singular.  This means that a linear combination of the coefficients has zero variance.  In other words, there are only three degrees of freedom in the four dimensional random effects vector."
     ]
    },
    {
     "cell_type": "markdown",
     "metadata": {},
     "source": [
      "There are different ways of determining the direction of the linear combination with zero variance.  The easiest is to take the singular value decomposition of `lambda`."
     ]
    },
    {
     "cell_type": "code",
     "collapsed": false,
     "input": [
      "lfact = svdfact(modl.\u03bb[1].chol[:L]);\n",
      "show(lfact[:S])"
     ],
     "language": "python",
     "metadata": {},
     "outputs": [
      {
       "output_type": "stream",
       "stream": "stdout",
       "text": [
        "\n",
        "Cholesky{Float64} with factor:\n"
       ]
      },
      {
       "output_type": "stream",
       "stream": "stdout",
       "text": [
        "[0.8209174859507787,0.28399613235744525,0.16365538886120665,0.0]"
       ]
      }
     ],
     "prompt_number": 7
    },
    {
     "cell_type": "markdown",
     "metadata": {},
     "source": [
      "Because the singular values are non-negative and returned in decreasing order, zero or near-zero singular values will be trailing elements of `S`.  The direction of the linear combinations that have zero variance is the corresponding column of `U`, the matrix of left singular vectors."
     ]
    },
    {
     "cell_type": "code",
     "collapsed": false,
     "input": [
      "svec = lfact[:U][:,end];\n",
      "show(svec)"
     ],
     "language": "python",
     "metadata": {},
     "outputs": [
      {
       "output_type": "stream",
       "stream": "stdout",
       "text": [
        "[-0.07346461561736675,0.4017841258887873,-0.3126654673698748,0.8575621096750681]"
       ]
      }
     ],
     "prompt_number": 8
    },
    {
     "cell_type": "markdown",
     "metadata": {},
     "source": [
      "We can verify that this combination does indeed have (near) zero variance by evaluating the relative covariance matrix and the quadratic form for the variance of this combination"
     ]
    },
    {
     "cell_type": "code",
     "collapsed": false,
     "input": [
      "relcov = full(modl.\u03bb[1])"
     ],
     "language": "python",
     "metadata": {},
     "outputs": [
      {
       "metadata": {},
       "output_type": "pyout",
       "prompt_number": 9,
       "text": [
        "4x4 Array{Float64,2}:\n",
        "  0.625913    0.159548    -0.0164477   -0.027128  \n",
        "  0.159548    0.111863    -0.00116828  -0.039168  \n",
        " -0.0164477  -0.00116828   0.0245855    0.00810216\n",
        " -0.027128   -0.039168     0.00810216   0.018981  "
       ]
      }
     ],
     "prompt_number": 9
    },
    {
     "cell_type": "code",
     "collapsed": false,
     "input": [
      "using PDMats\n",
      "quad(modl.\u03bb[1],svec)  # quadratic form defined by \u03bb[1]"
     ],
     "language": "python",
     "metadata": {},
     "outputs": [
      {
       "metadata": {},
       "output_type": "pyout",
       "prompt_number": 10,
       "text": [
        "-2.294486724812941e-18"
       ]
      }
     ],
     "prompt_number": 10
    },
    {
     "cell_type": "markdown",
     "metadata": {},
     "source": [
      "In fact, it may be easier conceptually to begin with the relative covariance matrix and its eigendecomposition, which is related to the principle components."
     ]
    },
    {
     "cell_type": "code",
     "collapsed": false,
     "input": [
      "ev = eigfact(relcov);\n",
      "ev[:values]"
     ],
     "language": "python",
     "metadata": {},
     "outputs": [
      {
       "metadata": {},
       "output_type": "pyout",
       "prompt_number": 11,
       "text": [
        "4-element Array{Float64,1}:\n",
        " -4.49724e-17\n",
        "  0.0267831  \n",
        "  0.0806538  \n",
        "  0.673906   "
       ]
      }
     ],
     "prompt_number": 11
    },
    {
     "cell_type": "markdown",
     "metadata": {},
     "source": [
      "The eigenvalues of `lambda * lambda'` are the squares of the singular values of `lambda` but in the opposite order.  The direction of zero variance is therefore"
     ]
    },
    {
     "cell_type": "code",
     "collapsed": false,
     "input": [
      "evec = ev[:vectors][1,:];\n",
      "show(evec)"
     ],
     "language": "python",
     "metadata": {},
     "outputs": [
      {
       "output_type": "stream",
       "stream": "stdout",
       "text": [
        "["
       ]
      },
      {
       "output_type": "stream",
       "stream": "stdout",
       "text": [
        "-0.07346461561736689 0.0017188362505181631 -0.2734296779815712 0.9590809178859885]"
       ]
      }
     ],
     "prompt_number": 12
    },
    {
     "cell_type": "heading",
     "level": 2,
     "metadata": {},
     "source": [
      "Convergence for this model"
     ]
    },
    {
     "cell_type": "markdown",
     "metadata": {},
     "source": [
      "\n",
      "\n",
      "After updating the model structure for a new value of the parameters the gradient can be extracted relatively easily.  At convergence, the gradient is"
     ]
    },
    {
     "cell_type": "code",
     "collapsed": false,
     "input": [
      "grad!(zeros(10),modl)"
     ],
     "language": "python",
     "metadata": {},
     "outputs": [
      {
       "metadata": {},
       "output_type": "pyout",
       "prompt_number": 13,
       "text": [
        "10-element Array{Float64,1}:\n",
        "  0.160204\n",
        " -0.084287\n",
        " -0.267972\n",
        " -0.087367\n",
        "  1.85847 \n",
        " -0.82389 \n",
        " -1.0473  \n",
        "  3.19266 \n",
        " -0.393868\n",
        "  0.0     "
       ]
      }
     ],
     "prompt_number": 13
    }
   ],
   "metadata": {}
  }
 ]
}